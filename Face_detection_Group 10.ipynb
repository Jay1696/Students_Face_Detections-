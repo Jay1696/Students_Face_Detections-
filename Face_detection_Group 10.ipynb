{
  "nbformat": 4,
  "nbformat_minor": 0,
  "metadata": {
    "colab": {
      "name": "Face_detection.ipynb",
      "provenance": [],
      "collapsed_sections": []
    },
    "kernelspec": {
      "name": "python3",
      "display_name": "Python 3"
    },
    "language_info": {
      "name": "python"
    },
    "accelerator": "TPU"
  },
  "cells": [
    {
      "cell_type": "code",
      "metadata": {
        "id": "-_TzRcYe8z2q"
      },
      "source": [
        "__import__('pkg_resources').declare_namespace(__name__)"
      ],
      "execution_count": null,
      "outputs": []
    },
    {
      "cell_type": "code",
      "metadata": {
        "colab": {
          "base_uri": "https://localhost:8080/"
        },
        "id": "lBg_61bIMPl3",
        "outputId": "89b6af10-08b4-4849-ae6b-115fb5cb72ba"
      },
      "source": [
        "!pip install mtcnn\n"
      ],
      "execution_count": null,
      "outputs": [
        {
          "output_type": "stream",
          "text": [
            "Requirement already satisfied: mtcnn in /usr/local/lib/python3.7/dist-packages (0.1.1)\n",
            "Requirement already satisfied: keras>=2.0.0 in /usr/local/lib/python3.7/dist-packages (from mtcnn) (2.4.3)\n",
            "Requirement already satisfied: opencv-python>=4.1.0 in /usr/local/lib/python3.7/dist-packages (from mtcnn) (4.1.2.30)\n",
            "Requirement already satisfied: numpy>=1.9.1 in /usr/local/lib/python3.7/dist-packages (from keras>=2.0.0->mtcnn) (1.19.5)\n",
            "Requirement already satisfied: scipy>=0.14 in /usr/local/lib/python3.7/dist-packages (from keras>=2.0.0->mtcnn) (1.4.1)\n",
            "Requirement already satisfied: h5py in /usr/local/lib/python3.7/dist-packages (from keras>=2.0.0->mtcnn) (3.1.0)\n",
            "Requirement already satisfied: pyyaml in /usr/local/lib/python3.7/dist-packages (from keras>=2.0.0->mtcnn) (3.13)\n",
            "Requirement already satisfied: cached-property in /usr/local/lib/python3.7/dist-packages (from h5py->keras>=2.0.0->mtcnn) (1.5.2)\n"
          ],
          "name": "stdout"
        }
      ]
    },
    {
      "cell_type": "code",
      "metadata": {
        "colab": {
          "base_uri": "https://localhost:8080/"
        },
        "id": "-BmvbxjIFvkZ",
        "outputId": "c19c5392-edaa-4db8-e5b3-2ed66edeb979"
      },
      "source": [
        "from os import listdir\n",
        "\n",
        "from os.path import isdir\n",
        "from PIL import Image\n",
        "from matplotlib import pyplot\n",
        "from numpy import savez_compressed\n",
        "from numpy import asarray\n",
        "from mtcnn.mtcnn import MTCNN\n",
        "from google.colab import drive\n",
        "drive.mount('/content/drive/', force_remount=True)\n",
        " \n",
        "# extract a single face from a given photograph\n",
        "def extract_face(filename, required_size=(160, 160)):\n",
        "\t# load image from file\n",
        "\timage = Image.open(filename)\n",
        "\t# convert to RGB, if needed\n",
        "\timage = image.convert('RGB')\n",
        "\t# convert to array\n",
        "\tpixels = asarray(image)\n",
        "\t# create the detector, using default weights\n",
        "\tdetector = MTCNN()\n",
        "\t# detect faces in the image\n",
        "\tresults = detector.detect_faces(pixels)\n",
        "\t# extract the bounding box from the first face\n",
        "\tx1, y1, width, height = results[0]['box']\n",
        "\t# bug fix\n",
        "\tx1, y1 = abs(x1), abs(y1)\n",
        "\tx2, y2 = x1 + width, y1 + height\n",
        "\t# extract the face\n",
        "\tface = pixels[y1:y2, x1:x2]\n",
        "\t# resize pixels to the model size\n",
        "\timage = Image.fromarray(face)\n",
        "\timage = image.resize(required_size)\n",
        "\tface_array = asarray(image)\n",
        "\treturn face_array\n",
        " \n",
        "# load images and extract faces for all images in a directory\n",
        "def load_faces(directory):\n",
        "\tfaces = list()\n",
        "\t# enumerate files\n",
        "\tfor filename in listdir(directory):\n",
        "\t\t# path\n",
        "\t\tpath = directory + filename\n",
        "\t\t# get face\n",
        "\t\tface = extract_face(path)\n",
        "\t\t# store\n",
        "\t\tfaces.append(face)\n",
        "\treturn faces\n",
        " \n",
        "# load a dataset that contains one subdir for each class that in turn contains images\n",
        "def load_dataset(directory):\n",
        "\tX, y = list(), list()\n",
        "\t# enumerate folders, on per class\n",
        "\tfor subdir in listdir(directory):\n",
        "\t\t# path\n",
        "\t\tpath = directory + subdir + '/'\n",
        "\t\t# skip any files that might be in the dir\n",
        "\t\tif not isdir(path):\n",
        "\t\t\tcontinue\n",
        "\t\t# load all faces in the subdirectory\n",
        "\t\tfaces = load_faces(path)\n",
        "\t\t# create labels\n",
        "\t\tlabels = [subdir for _ in range(len(faces))]\n",
        "\t\t# summarize progress\n",
        "\t\tprint('>loaded %d examples for class: %s' % (len(faces), subdir))\n",
        "\t\t# store\n",
        "\t\tX.extend(faces)\n",
        "\t\ty.extend(labels)\n",
        "\treturn asarray(X), asarray(y)\n",
        " \n",
        "# load train dataset\n",
        "trainX, trainy = load_dataset('/content/drive/My Drive/images/Data/train/')\n",
        "print(trainX.shape, trainy.shape)\n",
        "# load test dataset\n",
        "testX, testy = load_dataset('/content/drive/My Drive/images/Data/test/')\n",
        "# save arrays to one file in compressed format\n",
        "savez_compressed('faces-dataset.npz', trainX, trainy, testX, testy)"
      ],
      "execution_count": null,
      "outputs": [
        {
          "output_type": "stream",
          "text": [
            "Mounted at /content/drive/\n",
            ">loaded 9 examples for class: Karan Thakkar\n",
            ">loaded 6 examples for class: Parth Patel\n",
            ">loaded 7 examples for class: Adil Kureshi\n",
            ">loaded 4 examples for class: Abhishek Kulkarni\n",
            ">loaded 5 examples for class: Henil Patel\n",
            ">loaded 2 examples for class: Gagandeep singh\n",
            ">loaded 3 examples for class: Aleesha Shah\n",
            ">loaded 7 examples for class: Haigal Harrison\n",
            ">loaded 9 examples for class: Akash Panchani\n",
            ">loaded 7 examples for class: Ganesh Rao Kubeendrababu\n",
            ">loaded 6 examples for class: Jacob Sebastian\n",
            ">loaded 3 examples for class: Abhijith kalari thottathil\n",
            ">loaded 6 examples for class: Navjot Virk\n",
            ">loaded 7 examples for class: Lakshmi Narasimha Murthy\n",
            ">loaded 7 examples for class: Muhammed Shakhil Kachinamthody Puthiyapurayil\n",
            ">loaded 3 examples for class: Navdeep Singh\n",
            ">loaded 4 examples for class: Nikilesh Kumar\n",
            ">loaded 4 examples for class: Lekshmi Chandran Sheela\n",
            ">loaded 6 examples for class: Jayesh Patil\n",
            "(105, 160, 160, 3) (105,)\n",
            ">loaded 1 examples for class: Adil Kureshi\n",
            ">loaded 1 examples for class: Abhishek Kulkarni\n",
            ">loaded 1 examples for class: Abhijith kalari thottathil\n",
            ">loaded 1 examples for class: Aleesha Shah\n",
            ">loaded 1 examples for class: Akash Panchani\n",
            ">loaded 1 examples for class: Jacob Sebastian\n",
            ">loaded 1 examples for class: Haigal Harrison\n",
            ">loaded 1 examples for class: Gagandeep singh\n",
            ">loaded 1 examples for class: Jayesh Patil\n",
            ">loaded 1 examples for class: Lakshmi Narasimha Murthy\n",
            ">loaded 1 examples for class: Henil Patel\n",
            ">loaded 1 examples for class: Ganesh Rao Kubeendrababu\n",
            ">loaded 1 examples for class: Karan Thakkar\n",
            ">loaded 1 examples for class: Navdeep Singh\n",
            ">loaded 1 examples for class: Nikilesh Kumar\n",
            ">loaded 1 examples for class: Lekshmi Chandran Sheela\n",
            ">loaded 1 examples for class: Parth Patel\n",
            ">loaded 1 examples for class: Muhammed Shakhil Kachinamthody Puthiyapurayil\n",
            ">loaded 0 examples for class: Parvathy Vysakh\n",
            ">loaded 1 examples for class: Navjot Virk\n",
            ">loaded 0 examples for class: Lakshya\n",
            ">loaded 0 examples for class: Urvashi Srivastava\n"
          ],
          "name": "stdout"
        }
      ]
    },
    {
      "cell_type": "code",
      "metadata": {
        "colab": {
          "base_uri": "https://localhost:8080/",
          "height": 178
        },
        "id": "Qr15O54vrcG-",
        "outputId": "6912b350-dbad-4978-bd85-af383d32e6ab"
      },
      "source": [
        "from os import listdir\n",
        "from PIL import Image\n",
        "from numpy import asarray\n",
        "from matplotlib import pyplot\n",
        "from mtcnn.mtcnn import MTCNN\n",
        " \n",
        "# extract a single face from a given photograph\n",
        "def extract_face(filename, required_size=(160, 160)):\n",
        "\t# load image from file\n",
        "\timage = Image.open(filename)\n",
        "\t# convert to RGB, if needed\n",
        "\timage = image.convert('RGB')\n",
        "\t# convert to array\n",
        "\tpixels = asarray(image)\n",
        "\t# create the detector, using default weights\n",
        "\tdetector = MTCNN()\n",
        "\t# detect faces in the image\n",
        "\tresults = detector.detect_faces(pixels)\n",
        "\t# extract the bounding box from the first face\n",
        "\tx1, y1, width, height = results[0]['box']\n",
        "\t# bug fix\n",
        "\tx1, y1 = abs(x1), abs(y1)\n",
        "\tx2, y2 = x1 + width, y1 + height\n",
        "\t# extract the face\n",
        "\tface = pixels[y1:y2, x1:x2]\n",
        "\t# resize pixels to the model size\n",
        "\timage = Image.fromarray(face)\n",
        "\timage = image.resize(required_size)\n",
        "\tface_array = asarray(image)\n",
        "\treturn face_array\n",
        " \n",
        "# specify folder to plot\n",
        "folder = '/content/drive/My Drive/images/Data/train/Parth Patel/'\n",
        "i = 1\n",
        "# enumerate files\n",
        "for filename in listdir(folder):\n",
        "\t# path\n",
        "\tpath = folder + filename\n",
        "\t# get face\n",
        "\tface = extract_face(path)\n",
        "\tprint(i, face.shape)\n",
        "\t# plot\n",
        "\tpyplot.subplot(2,7, i)\n",
        "\tpyplot.axis('off')\n",
        "\tpyplot.imshow(face)\n",
        "\ti += 1\n",
        "pyplot.show()"
      ],
      "execution_count": null,
      "outputs": [
        {
          "output_type": "stream",
          "text": [
            "1 (160, 160, 3)\n",
            "2 (160, 160, 3)\n",
            "3 (160, 160, 3)\n",
            "4 (160, 160, 3)\n",
            "5 (160, 160, 3)\n",
            "6 (160, 160, 3)\n"
          ],
          "name": "stdout"
        },
        {
          "output_type": "display_data",
          "data": {
            "image/png": "[encoded data removed]",
            "text/plain": [
              "<Figure size 432x288 with 6 Axes>"
            ]
          },
          "metadata": {
            "tags": [],
            "needs_background": "light"
          }
        }
      ]
    },
    {
      "cell_type": "code",
      "metadata": {
        "colab": {
          "base_uri": "https://localhost:8080/"
        },
        "id": "XQ_T40CF9FCe",
        "outputId": "9c55ba95-f0e9-4371-9af3-adf7e74aa1d2"
      },
      "source": [
        "!python -m ensurepip --upgrade"
      ],
      "execution_count": null,
      "outputs": [
        {
          "output_type": "stream",
          "text": [
            "/usr/bin/python3: No module named ensurepip\n"
          ],
          "name": "stdout"
        }
      ]
    },
    {
      "cell_type": "code",
      "metadata": {
        "id": "TkOMZM4no2nF",
        "colab": {
          "base_uri": "https://localhost:8080/"
        },
        "outputId": "9fd8a168-bd26-4961-df28-f24c8fc7be5f"
      },
      "source": [
        "!sudo apt install python3-h5py\n"
      ],
      "execution_count": null,
      "outputs": [
        {
          "output_type": "stream",
          "text": [
            "Reading package lists... Done\n",
            "Building dependency tree       \n",
            "Reading state information... Done\n",
            "python3-h5py is already the newest version (2.7.1-2).\n",
            "0 upgraded, 0 newly installed, 0 to remove and 40 not upgraded.\n"
          ],
          "name": "stdout"
        }
      ]
    },
    {
      "cell_type": "code",
      "metadata": {
        "id": "tUsbxZ0n040k",
        "colab": {
          "base_uri": "https://localhost:8080/"
        },
        "outputId": "62735956-c7f2-45d0-d010-049b50ac4476"
      },
      "source": [
        "!pip install keras 2.4.0"
      ],
      "execution_count": null,
      "outputs": [
        {
          "output_type": "stream",
          "text": [
            "Requirement already satisfied: keras in /usr/local/lib/python3.7/dist-packages (2.4.3)\n",
            "\u001b[31mERROR: Could not find a version that satisfies the requirement 2.4.0 (from versions: none)\u001b[0m\n",
            "\u001b[31mERROR: No matching distribution found for 2.4.0\u001b[0m\n"
          ],
          "name": "stdout"
        }
      ]
    },
    {
      "cell_type": "code",
      "metadata": {
        "colab": {
          "base_uri": "https://localhost:8080/"
        },
        "id": "liEhoRH26L24",
        "outputId": "f75ca3bb-95a7-4bad-99fc-5e07886bca25"
      },
      "source": [
        "!pip install keras-facenet"
      ],
      "execution_count": null,
      "outputs": [
        {
          "output_type": "stream",
          "text": [
            "Requirement already satisfied: keras-facenet in /usr/local/lib/python3.7/dist-packages (0.3.2)\n",
            "Requirement already satisfied: mtcnn in /usr/local/lib/python3.7/dist-packages (from keras-facenet) (0.1.1)\n",
            "Requirement already satisfied: keras>=2.0.0 in /usr/local/lib/python3.7/dist-packages (from mtcnn->keras-facenet) (2.4.3)\n",
            "Requirement already satisfied: opencv-python>=4.1.0 in /usr/local/lib/python3.7/dist-packages (from mtcnn->keras-facenet) (4.1.2.30)\n",
            "Requirement already satisfied: scipy>=0.14 in /usr/local/lib/python3.7/dist-packages (from keras>=2.0.0->mtcnn->keras-facenet) (1.4.1)\n",
            "Requirement already satisfied: numpy>=1.9.1 in /usr/local/lib/python3.7/dist-packages (from keras>=2.0.0->mtcnn->keras-facenet) (1.19.5)\n",
            "Requirement already satisfied: pyyaml in /usr/local/lib/python3.7/dist-packages (from keras>=2.0.0->mtcnn->keras-facenet) (3.13)\n",
            "Requirement already satisfied: h5py in /usr/local/lib/python3.7/dist-packages (from keras>=2.0.0->mtcnn->keras-facenet) (3.1.0)\n",
            "Requirement already satisfied: cached-property in /usr/local/lib/python3.7/dist-packages (from h5py->keras>=2.0.0->mtcnn->keras-facenet) (1.5.2)\n"
          ],
          "name": "stdout"
        }
      ]
    },
    {
      "cell_type": "code",
      "metadata": {
        "id": "CAbbCWOh6z4I"
      },
      "source": [
        "from keras.models import load_model\n",
        "from tensorflow.keras.models import Sequential"
      ],
      "execution_count": null,
      "outputs": []
    },
    {
      "cell_type": "code",
      "metadata": {
        "id": "vAf4cQSoNBzP"
      },
      "source": [
        "from keras_facenet import FaceNet\n"
      ],
      "execution_count": null,
      "outputs": []
    },
    {
      "cell_type": "code",
      "metadata": {
        "colab": {
          "base_uri": "https://localhost:8080/"
        },
        "id": "TWhL-XkdGNDS",
        "outputId": "c0f28cf4-1fd0-4c55-a8b3-54bd2c115d39"
      },
      "source": [
        "# calculate a face embedding for each face in the dataset using facenet\n",
        "from numpy import load\n",
        "from numpy import expand_dims\n",
        "from numpy import asarray\n",
        "from numpy import savez_compressed\n",
        "import tensorflow as tf\n",
        "\n",
        "# get the face embedding for one face\n",
        "def get_embedding(model, face_pixels):\n",
        "\t# scale pixel values\n",
        "\tface_pixels = face_pixels.astype('float32')\n",
        "\t# standardize pixel values across channels (global)\n",
        "\tmean, std = face_pixels.mean(), face_pixels.std()\n",
        "\tface_pixels = (face_pixels - mean) / std\n",
        "\t# transform face into one sample\n",
        "\tsamples = expand_dims(face_pixels, axis=0)\n",
        "\t# make prediction to get embedding\n",
        "\tyhat = model.predict(samples)\n",
        "\treturn yhat[0]\n",
        " \n",
        "# load the face dataset\n",
        "data = load('faces-dataset.npz')\n",
        "trainX, trainy, testX, testy = data['arr_0'], data['arr_1'], data['arr_2'], data['arr_3']\n",
        "print('Loaded: ', trainX.shape, trainy.shape, testX.shape, testy.shape)\n",
        "\n",
        "# load the facenet model\n",
        "fxnet=load_model('/content/drive/My Drive/facenet_keras.h5')\n",
        "model = fxnet\n",
        "#model=tf.keras.models.load_model('facenet_keras.h5')\n",
        "\n",
        "print('Loaded Model')\n",
        "\n",
        "# convert each face in the train set to an embedding\n",
        "newTrainX = list()\n",
        "for face_pixels in trainX:\n",
        "\tembedding = get_embedding(model, face_pixels)\n",
        "\tnewTrainX.append(embedding)\n",
        "newTrainX = asarray(newTrainX)\n",
        "print(newTrainX.shape)\n",
        "# convert each face in the test set to an embedding\n",
        "newTestX = list()\n",
        "for face_pixels in testX:\n",
        "\tembedding = get_embedding(model, face_pixels)\n",
        "\tnewTestX.append(embedding)\n",
        "newTestX = asarray(newTestX)\n",
        "print(newTestX.shape)\n",
        "# save arrays to one file in compressed format\n",
        "savez_compressed('faces-embeddings.npz', newTrainX, trainy, newTestX, testy)"
      ],
      "execution_count": null,
      "outputs": [
        {
          "output_type": "stream",
          "text": [
            "Loaded:  (105, 160, 160, 3) (105,) (19, 160, 160, 3) (19,)\n",
            "WARNING:tensorflow:No training configuration found in the save file, so the model was *not* compiled. Compile it manually.\n",
            "Loaded Model\n",
            "WARNING:tensorflow:AutoGraph could not transform <function <lambda> at 0x7ffa14fa09e0> and will run it as-is.\n",
            "Cause: could not parse the source code of <function <lambda> at 0x7ffa14fa09e0>: no matching AST found\n",
            "To silence this warning, decorate the function with @tf.autograph.experimental.do_not_convert\n",
            "WARNING: AutoGraph could not transform <function <lambda> at 0x7ffa14fa09e0> and will run it as-is.\n",
            "Cause: could not parse the source code of <function <lambda> at 0x7ffa14fa09e0>: no matching AST found\n",
            "To silence this warning, decorate the function with @tf.autograph.experimental.do_not_convert\n",
            "WARNING:tensorflow:AutoGraph could not transform <function <lambda> at 0x7ffa1b62ff80> and will run it as-is.\n",
            "Cause: could not parse the source code of <function <lambda> at 0x7ffa1b62ff80>: no matching AST found\n",
            "To silence this warning, decorate the function with @tf.autograph.experimental.do_not_convert\n",
            "WARNING: AutoGraph could not transform <function <lambda> at 0x7ffa1b62ff80> and will run it as-is.\n",
            "Cause: could not parse the source code of <function <lambda> at 0x7ffa1b62ff80>: no matching AST found\n",
            "To silence this warning, decorate the function with @tf.autograph.experimental.do_not_convert\n",
            "WARNING:tensorflow:AutoGraph could not transform <function <lambda> at 0x7ffa1b37d680> and will run it as-is.\n",
            "Cause: could not parse the source code of <function <lambda> at 0x7ffa1b37d680>: no matching AST found\n",
            "To silence this warning, decorate the function with @tf.autograph.experimental.do_not_convert\n",
            "WARNING: AutoGraph could not transform <function <lambda> at 0x7ffa1b37d680> and will run it as-is.\n",
            "Cause: could not parse the source code of <function <lambda> at 0x7ffa1b37d680>: no matching AST found\n",
            "To silence this warning, decorate the function with @tf.autograph.experimental.do_not_convert\n",
            "WARNING:tensorflow:AutoGraph could not transform <function <lambda> at 0x7ffa1b37d5f0> and will run it as-is.\n",
            "Cause: could not parse the source code of <function <lambda> at 0x7ffa1b37d5f0>: no matching AST found\n",
            "To silence this warning, decorate the function with @tf.autograph.experimental.do_not_convert\n",
            "WARNING: AutoGraph could not transform <function <lambda> at 0x7ffa1b37d5f0> and will run it as-is.\n",
            "Cause: could not parse the source code of <function <lambda> at 0x7ffa1b37d5f0>: no matching AST found\n",
            "To silence this warning, decorate the function with @tf.autograph.experimental.do_not_convert\n",
            "WARNING:tensorflow:AutoGraph could not transform <function <lambda> at 0x7ffa1b37d9e0> and will run it as-is.\n",
            "Cause: could not parse the source code of <function <lambda> at 0x7ffa1b37d9e0>: no matching AST found\n",
            "To silence this warning, decorate the function with @tf.autograph.experimental.do_not_convert\n",
            "WARNING: AutoGraph could not transform <function <lambda> at 0x7ffa1b37d9e0> and will run it as-is.\n",
            "Cause: could not parse the source code of <function <lambda> at 0x7ffa1b37d9e0>: no matching AST found\n",
            "To silence this warning, decorate the function with @tf.autograph.experimental.do_not_convert\n",
            "WARNING:tensorflow:AutoGraph could not transform <function <lambda> at 0x7ffa1b37d710> and will run it as-is.\n",
            "Cause: could not parse the source code of <function <lambda> at 0x7ffa1b37d710>: no matching AST found\n",
            "To silence this warning, decorate the function with @tf.autograph.experimental.do_not_convert\n",
            "WARNING: AutoGraph could not transform <function <lambda> at 0x7ffa1b37d710> and will run it as-is.\n",
            "Cause: could not parse the source code of <function <lambda> at 0x7ffa1b37d710>: no matching AST found\n",
            "To silence this warning, decorate the function with @tf.autograph.experimental.do_not_convert\n",
            "WARNING:tensorflow:AutoGraph could not transform <function <lambda> at 0x7ffa1b37db00> and will run it as-is.\n",
            "Cause: could not parse the source code of <function <lambda> at 0x7ffa1b37db00>: no matching AST found\n",
            "To silence this warning, decorate the function with @tf.autograph.experimental.do_not_convert\n",
            "WARNING: AutoGraph could not transform <function <lambda> at 0x7ffa1b37db00> and will run it as-is.\n",
            "Cause: could not parse the source code of <function <lambda> at 0x7ffa1b37db00>: no matching AST found\n",
            "To silence this warning, decorate the function with @tf.autograph.experimental.do_not_convert\n",
            "WARNING:tensorflow:AutoGraph could not transform <function <lambda> at 0x7ffa1b37dc20> and will run it as-is.\n",
            "Cause: could not parse the source code of <function <lambda> at 0x7ffa1b37dc20>: no matching AST found\n",
            "To silence this warning, decorate the function with @tf.autograph.experimental.do_not_convert\n",
            "WARNING: AutoGraph could not transform <function <lambda> at 0x7ffa1b37dc20> and will run it as-is.\n",
            "Cause: could not parse the source code of <function <lambda> at 0x7ffa1b37dc20>: no matching AST found\n",
            "To silence this warning, decorate the function with @tf.autograph.experimental.do_not_convert\n",
            "WARNING:tensorflow:AutoGraph could not transform <function <lambda> at 0x7ffa1b37dcb0> and will run it as-is.\n",
            "Cause: could not parse the source code of <function <lambda> at 0x7ffa1b37dcb0>: no matching AST found\n",
            "To silence this warning, decorate the function with @tf.autograph.experimental.do_not_convert\n",
            "WARNING: AutoGraph could not transform <function <lambda> at 0x7ffa1b37dcb0> and will run it as-is.\n",
            "Cause: could not parse the source code of <function <lambda> at 0x7ffa1b37dcb0>: no matching AST found\n",
            "To silence this warning, decorate the function with @tf.autograph.experimental.do_not_convert\n",
            "WARNING:tensorflow:AutoGraph could not transform <function <lambda> at 0x7ffa1b37dd40> and will run it as-is.\n",
            "Cause: could not parse the source code of <function <lambda> at 0x7ffa1b37dd40>: no matching AST found\n",
            "To silence this warning, decorate the function with @tf.autograph.experimental.do_not_convert\n",
            "WARNING: AutoGraph could not transform <function <lambda> at 0x7ffa1b37dd40> and will run it as-is.\n",
            "Cause: could not parse the source code of <function <lambda> at 0x7ffa1b37dd40>: no matching AST found\n",
            "To silence this warning, decorate the function with @tf.autograph.experimental.do_not_convert\n",
            "WARNING:tensorflow:AutoGraph could not transform <function <lambda> at 0x7ffa1b37def0> and will run it as-is.\n",
            "Cause: could not parse the source code of <function <lambda> at 0x7ffa1b37def0>: no matching AST found\n",
            "To silence this warning, decorate the function with @tf.autograph.experimental.do_not_convert\n",
            "WARNING: AutoGraph could not transform <function <lambda> at 0x7ffa1b37def0> and will run it as-is.\n",
            "Cause: could not parse the source code of <function <lambda> at 0x7ffa1b37def0>: no matching AST found\n",
            "To silence this warning, decorate the function with @tf.autograph.experimental.do_not_convert\n",
            "WARNING:tensorflow:AutoGraph could not transform <function <lambda> at 0x7ffa146ae050> and will run it as-is.\n",
            "Cause: could not parse the source code of <function <lambda> at 0x7ffa146ae050>: no matching AST found\n",
            "To silence this warning, decorate the function with @tf.autograph.experimental.do_not_convert\n",
            "WARNING: AutoGraph could not transform <function <lambda> at 0x7ffa146ae050> and will run it as-is.\n",
            "Cause: could not parse the source code of <function <lambda> at 0x7ffa146ae050>: no matching AST found\n",
            "To silence this warning, decorate the function with @tf.autograph.experimental.do_not_convert\n",
            "WARNING:tensorflow:AutoGraph could not transform <function <lambda> at 0x7ffa146ae170> and will run it as-is.\n",
            "Cause: could not parse the source code of <function <lambda> at 0x7ffa146ae170>: no matching AST found\n",
            "To silence this warning, decorate the function with @tf.autograph.experimental.do_not_convert\n",
            "WARNING: AutoGraph could not transform <function <lambda> at 0x7ffa146ae170> and will run it as-is.\n",
            "Cause: could not parse the source code of <function <lambda> at 0x7ffa146ae170>: no matching AST found\n",
            "To silence this warning, decorate the function with @tf.autograph.experimental.do_not_convert\n",
            "WARNING:tensorflow:AutoGraph could not transform <function <lambda> at 0x7ffa146ae290> and will run it as-is.\n",
            "Cause: could not parse the source code of <function <lambda> at 0x7ffa146ae290>: no matching AST found\n",
            "To silence this warning, decorate the function with @tf.autograph.experimental.do_not_convert\n",
            "WARNING: AutoGraph could not transform <function <lambda> at 0x7ffa146ae290> and will run it as-is.\n",
            "Cause: could not parse the source code of <function <lambda> at 0x7ffa146ae290>: no matching AST found\n",
            "To silence this warning, decorate the function with @tf.autograph.experimental.do_not_convert\n",
            "WARNING:tensorflow:AutoGraph could not transform <function <lambda> at 0x7ffa146ae3b0> and will run it as-is.\n",
            "Cause: could not parse the source code of <function <lambda> at 0x7ffa146ae3b0>: no matching AST found\n",
            "To silence this warning, decorate the function with @tf.autograph.experimental.do_not_convert\n",
            "WARNING: AutoGraph could not transform <function <lambda> at 0x7ffa146ae3b0> and will run it as-is.\n",
            "Cause: could not parse the source code of <function <lambda> at 0x7ffa146ae3b0>: no matching AST found\n",
            "To silence this warning, decorate the function with @tf.autograph.experimental.do_not_convert\n",
            "WARNING:tensorflow:AutoGraph could not transform <function <lambda> at 0x7ffa146ae320> and will run it as-is.\n",
            "Cause: could not parse the source code of <function <lambda> at 0x7ffa146ae320>: no matching AST found\n",
            "To silence this warning, decorate the function with @tf.autograph.experimental.do_not_convert\n",
            "WARNING: AutoGraph could not transform <function <lambda> at 0x7ffa146ae320> and will run it as-is.\n",
            "Cause: could not parse the source code of <function <lambda> at 0x7ffa146ae320>: no matching AST found\n",
            "To silence this warning, decorate the function with @tf.autograph.experimental.do_not_convert\n",
            "WARNING:tensorflow:AutoGraph could not transform <function <lambda> at 0x7ffa146ae560> and will run it as-is.\n",
            "Cause: could not parse the source code of <function <lambda> at 0x7ffa146ae560>: no matching AST found\n",
            "To silence this warning, decorate the function with @tf.autograph.experimental.do_not_convert\n",
            "WARNING: AutoGraph could not transform <function <lambda> at 0x7ffa146ae560> and will run it as-is.\n",
            "Cause: could not parse the source code of <function <lambda> at 0x7ffa146ae560>: no matching AST found\n",
            "To silence this warning, decorate the function with @tf.autograph.experimental.do_not_convert\n",
            "WARNING:tensorflow:AutoGraph could not transform <function <lambda> at 0x7ffa146ae680> and will run it as-is.\n",
            "Cause: could not parse the source code of <function <lambda> at 0x7ffa146ae680>: no matching AST found\n",
            "To silence this warning, decorate the function with @tf.autograph.experimental.do_not_convert\n",
            "WARNING: AutoGraph could not transform <function <lambda> at 0x7ffa146ae680> and will run it as-is.\n",
            "Cause: could not parse the source code of <function <lambda> at 0x7ffa146ae680>: no matching AST found\n",
            "To silence this warning, decorate the function with @tf.autograph.experimental.do_not_convert\n",
            "WARNING:tensorflow:AutoGraph could not transform <function <lambda> at 0x7ffa146ae7a0> and will run it as-is.\n",
            "Cause: could not parse the source code of <function <lambda> at 0x7ffa146ae7a0>: no matching AST found\n",
            "To silence this warning, decorate the function with @tf.autograph.experimental.do_not_convert\n",
            "WARNING: AutoGraph could not transform <function <lambda> at 0x7ffa146ae7a0> and will run it as-is.\n",
            "Cause: could not parse the source code of <function <lambda> at 0x7ffa146ae7a0>: no matching AST found\n",
            "To silence this warning, decorate the function with @tf.autograph.experimental.do_not_convert\n",
            "WARNING:tensorflow:AutoGraph could not transform <function <lambda> at 0x7ffa146ae8c0> and will run it as-is.\n",
            "Cause: could not parse the source code of <function <lambda> at 0x7ffa146ae8c0>: no matching AST found\n",
            "To silence this warning, decorate the function with @tf.autograph.experimental.do_not_convert\n",
            "WARNING: AutoGraph could not transform <function <lambda> at 0x7ffa146ae8c0> and will run it as-is.\n",
            "Cause: could not parse the source code of <function <lambda> at 0x7ffa146ae8c0>: no matching AST found\n",
            "To silence this warning, decorate the function with @tf.autograph.experimental.do_not_convert\n",
            "WARNING:tensorflow:AutoGraph could not transform <function <lambda> at 0x7ffa146ae9e0> and will run it as-is.\n",
            "Cause: could not parse the source code of <function <lambda> at 0x7ffa146ae9e0>: no matching AST found\n",
            "To silence this warning, decorate the function with @tf.autograph.experimental.do_not_convert\n",
            "WARNING: AutoGraph could not transform <function <lambda> at 0x7ffa146ae9e0> and will run it as-is.\n",
            "Cause: could not parse the source code of <function <lambda> at 0x7ffa146ae9e0>: no matching AST found\n",
            "To silence this warning, decorate the function with @tf.autograph.experimental.do_not_convert\n",
            "(105, 128)\n",
            "(19, 128)\n"
          ],
          "name": "stdout"
        }
      ]
    },
    {
      "cell_type": "code",
      "metadata": {
        "id": "rGBWhROEGUPB",
        "colab": {
          "base_uri": "https://localhost:8080/"
        },
        "outputId": "acf0b50b-26c8-47d8-c12f-83b6e05d9bc9"
      },
      "source": [
        "# develop a classifier for the Dataset\n",
        "from numpy import load\n",
        "from sklearn.metrics import accuracy_score\n",
        "from sklearn.preprocessing import LabelEncoder\n",
        "from sklearn.preprocessing import Normalizer\n",
        "from sklearn.svm import SVC\n",
        "# load dataset\n",
        "data = load('faces-embeddings.npz')\n",
        "trainX, trainy, testX, testy = data['arr_0'], data['arr_1'], data['arr_2'], data['arr_3']\n",
        "print('Dataset: train=%d, test=%d' % (trainX.shape[0], testX.shape[0]))\n",
        "# normalize input vectors\n",
        "in_encoder = Normalizer(norm='l2')\n",
        "trainX = in_encoder.transform(trainX)\n",
        "testX = in_encoder.transform(testX)\n",
        "# label encode targets\n",
        "out_encoder = LabelEncoder()\n",
        "out_encoder.fit(trainy)\n",
        "trainy = out_encoder.transform(trainy)\n",
        "testy = out_encoder.transform(testy)\n",
        "# fit model\n",
        "model = SVC(kernel='linear', probability=True)\n",
        "model.fit(trainX, trainy)\n",
        "# predict\n",
        "yhat_train = model.predict(trainX)\n",
        "yhat_test = model.predict(testX)\n",
        "# score\n",
        "score_train = accuracy_score(trainy, yhat_train)\n",
        "score_test = accuracy_score(testy, yhat_test)\n",
        "# summarize\n",
        "print('Accuracy: train=%.3f, test=%.3f' % (score_train*100, score_test*100))"
      ],
      "execution_count": null,
      "outputs": [
        {
          "output_type": "stream",
          "text": [
            "Dataset: train=105, test=19\n",
            "Accuracy: train=100.000, test=100.000\n"
          ],
          "name": "stdout"
        }
      ]
    },
    {
      "cell_type": "code",
      "metadata": {
        "id": "1mPQVB28IYzb",
        "colab": {
          "base_uri": "https://localhost:8080/",
          "height": 316
        },
        "outputId": "2a43629b-9cc2-400b-faac-be9635a8f52d"
      },
      "source": [
        "# develop a classifier \n",
        "from random import choice\n",
        "from numpy import load\n",
        "from numpy import expand_dims\n",
        "from sklearn.preprocessing import LabelEncoder\n",
        "from sklearn.preprocessing import Normalizer\n",
        "from sklearn.svm import SVC\n",
        "from matplotlib import pyplot\n",
        "# load faces\n",
        "data = load('faces-dataset.npz')\n",
        "testX_faces = data['arr_2']\n",
        "# load face embeddings\n",
        "data = load('faces-embeddings.npz')\n",
        "trainX, trainy, testX, testy = data['arr_0'], data['arr_1'], data['arr_2'], data['arr_3']\n",
        "# normalize input vectors\n",
        "in_encoder = Normalizer(norm='l2')\n",
        "trainX = in_encoder.transform(trainX)\n",
        "testX = in_encoder.transform(testX)\n",
        "# label encode targets\n",
        "out_encoder = LabelEncoder()\n",
        "out_encoder.fit(trainy)\n",
        "trainy = out_encoder.transform(trainy)\n",
        "testy = out_encoder.transform(testy)\n",
        "# fit model\n",
        "model = SVC(kernel='linear', probability=True)\n",
        "model.fit(trainX, trainy)\n",
        "# test model on a random example from the test dataset\n",
        "selection = choice([i for i in range(testX.shape[0])])\n",
        "random_face_pixels = testX_faces[selection]\n",
        "random_face_emb = testX[selection]\n",
        "random_face_class = testy[selection]\n",
        "random_face_name = out_encoder.inverse_transform([random_face_class])\n",
        "# prediction for the face\n",
        "samples = expand_dims(random_face_emb, axis=0)\n",
        "yhat_class = model.predict(samples)\n",
        "yhat_prob = model.predict_proba(samples)\n",
        "# get name\n",
        "class_index = yhat_class[0]\n",
        "class_probability = yhat_prob[0,class_index] * 100\n",
        "predict_names = out_encoder.inverse_transform(yhat_class)\n",
        "print('Predicted: %s (%.3f)' % (predict_names[0], class_probability))\n",
        "print('Expected: %s' % random_face_name[0])\n",
        "# plot for fun\n",
        "pyplot.imshow(random_face_pixels)\n",
        "title = '%s (%.3f)' % (predict_names[0], class_probability)\n",
        "pyplot.title(title)\n",
        "pyplot.show()"
      ],
      "execution_count": null,
      "outputs": [
        {
          "output_type": "stream",
          "text": [
            "Predicted: Abhijith kalari thottathil (34.203)\n",
            "Expected: Abhijith kalari thottathil\n"
          ],
          "name": "stdout"
        },
        {
          "output_type": "display_data",
          "data": {
            "image/png": "[encoded data removed]",
            "text/plain": [
              "<Figure size 432x288 with 1 Axes>"
            ]
          },
          "metadata": {
            "tags": [],
            "needs_background": "light"
          }
        }
      ]
    },
    {
      "cell_type": "code",
      "metadata": {
        "id": "WAWvyJnZY7cK"
      },
      "source": [
        ""
      ],
      "execution_count": null,
      "outputs": []
    }
  ]
}